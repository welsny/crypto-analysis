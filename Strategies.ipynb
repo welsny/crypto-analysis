{
 "cells": [
  {
   "cell_type": "markdown",
   "metadata": {},
   "source": [
    "### Creating Simple Strategies\n",
    "\n",
    "`TODO: Write some introductions for the following topics. Need to decide what the target audience for this notebook is so I can get full marks from English prof jk.`\n",
    "\n",
    "#### Backtesting Philosophy\n",
    "\n",
    "#### Beware: Overfitting\n",
    "\n",
    "#### Training, Testing, and Validation Sets\n",
    "\n",
    "#### TST: Market-Neutral, Medium Holding Strategies\n",
    "\n",
    "Explain the trading strategies of TST.\n",
    "\n",
    "#### Sample Strategy: 1d_fwd_return\n",
    "\n",
    "We can get access to historical prices through links such as [this one](https://coinmarketcap.com/currencies/ripple/historical-data/?start=20171104&end=20180204).\n",
    "\n",
    "The format of this data is quite easy to copy-and-paste, so it is unneccessary to write a web scraper at the moment. Data can be saved into the following format."
   ]
  },
  {
   "cell_type": "code",
   "execution_count": 1,
   "metadata": {},
   "outputs": [
    {
     "name": "stdout",
     "output_type": "stream",
     "text": [
      "Date\tOpen\tHigh\tLow\tClose\tVolume\tMarket Cap\n",
      "Feb 03, 2018\t0.891992\t0.974799\t0.761635\t0.924043\t1,988,960,000\t34,795,900,000\n",
      "Feb 02, 2018\t0.960642\t0.960642\t0.635185\t0.884784\t3,529,760,000\t37,473,900,000\n",
      "Feb 01, 2018\t1.16\t1.16\t0.930378\t0.962530\t1,410,420,000\t44,971,500,000\n",
      "Jan 31, 2018\t1.13\t1.19\t1.04\t1.16\t1,264,030,000\t43,800,800,000\n",
      "Jan 30, 2018\t1.33\t1.33\t1.13\t1.14\t1,134,640,000\t51,452,400,000\n",
      "Jan 29, 2018\t1.40\t1.41\t1.30\t1.32\t1,073,680,000\t54,204,300,000\n",
      "Jan 28, 2018\t1.22\t1.44\t1.22\t1.40\t1,327,360,000\t47,412,500,000\n",
      "Jan 27, 2018\t1.22\t1.24\t1.19\t1.22\t689,101,000\t47,180,200,000\n",
      "Jan 26, 2018\t1.31\t1.33\t1.14\t1.22\t2,037,570,000\t50,706,400,000\n"
     ]
    }
   ],
   "source": [
    "%%bash\n",
    "\n",
    "head xrp_daily.dat\n"
   ]
  },
  {
   "cell_type": "markdown",
   "metadata": {},
   "source": [
    "We want to move this data into a more analytics-friendly format by moving in into standard CSV formatting."
   ]
  },
  {
   "cell_type": "code",
   "execution_count": 2,
   "metadata": {},
   "outputs": [
    {
     "data": {
      "text/html": [
       "<div>\n",
       "<style scoped>\n",
       "    .dataframe tbody tr th:only-of-type {\n",
       "        vertical-align: middle;\n",
       "    }\n",
       "\n",
       "    .dataframe tbody tr th {\n",
       "        vertical-align: top;\n",
       "    }\n",
       "\n",
       "    .dataframe thead th {\n",
       "        text-align: right;\n",
       "    }\n",
       "</style>\n",
       "<table border=\"1\" class=\"dataframe\">\n",
       "  <thead>\n",
       "    <tr style=\"text-align: right;\">\n",
       "      <th></th>\n",
       "      <th>date</th>\n",
       "      <th>open</th>\n",
       "      <th>high</th>\n",
       "      <th>low</th>\n",
       "      <th>close</th>\n",
       "      <th>volume</th>\n",
       "      <th>mktcap</th>\n",
       "    </tr>\n",
       "  </thead>\n",
       "  <tbody>\n",
       "    <tr>\n",
       "      <th>363</th>\n",
       "      <td>2018-01-30</td>\n",
       "      <td>1.330000</td>\n",
       "      <td>1.330000</td>\n",
       "      <td>1.130000</td>\n",
       "      <td>1.140000</td>\n",
       "      <td>1134640000</td>\n",
       "      <td>51452400000</td>\n",
       "    </tr>\n",
       "    <tr>\n",
       "      <th>364</th>\n",
       "      <td>2018-01-31</td>\n",
       "      <td>1.130000</td>\n",
       "      <td>1.190000</td>\n",
       "      <td>1.040000</td>\n",
       "      <td>1.160000</td>\n",
       "      <td>1264030000</td>\n",
       "      <td>43800800000</td>\n",
       "    </tr>\n",
       "    <tr>\n",
       "      <th>365</th>\n",
       "      <td>2018-02-01</td>\n",
       "      <td>1.160000</td>\n",
       "      <td>1.160000</td>\n",
       "      <td>0.930378</td>\n",
       "      <td>0.962530</td>\n",
       "      <td>1410420000</td>\n",
       "      <td>44971500000</td>\n",
       "    </tr>\n",
       "    <tr>\n",
       "      <th>366</th>\n",
       "      <td>2018-02-02</td>\n",
       "      <td>0.960642</td>\n",
       "      <td>0.960642</td>\n",
       "      <td>0.635185</td>\n",
       "      <td>0.884784</td>\n",
       "      <td>3529760000</td>\n",
       "      <td>37473900000</td>\n",
       "    </tr>\n",
       "    <tr>\n",
       "      <th>367</th>\n",
       "      <td>2018-02-03</td>\n",
       "      <td>0.891992</td>\n",
       "      <td>0.974799</td>\n",
       "      <td>0.761635</td>\n",
       "      <td>0.924043</td>\n",
       "      <td>1988960000</td>\n",
       "      <td>34795900000</td>\n",
       "    </tr>\n",
       "  </tbody>\n",
       "</table>\n",
       "</div>"
      ],
      "text/plain": [
       "           date      open      high       low     close      volume  \\\n",
       "363  2018-01-30  1.330000  1.330000  1.130000  1.140000  1134640000   \n",
       "364  2018-01-31  1.130000  1.190000  1.040000  1.160000  1264030000   \n",
       "365  2018-02-01  1.160000  1.160000  0.930378  0.962530  1410420000   \n",
       "366  2018-02-02  0.960642  0.960642  0.635185  0.884784  3529760000   \n",
       "367  2018-02-03  0.891992  0.974799  0.761635  0.924043  1988960000   \n",
       "\n",
       "          mktcap  \n",
       "363  51452400000  \n",
       "364  43800800000  \n",
       "365  44971500000  \n",
       "366  37473900000  \n",
       "367  34795900000  "
      ]
     },
     "execution_count": 2,
     "metadata": {},
     "output_type": "execute_result"
    }
   ],
   "source": [
    "from datetime import datetime\n",
    "\n",
    "import pandas as pd\n",
    "\n",
    "df = pd.read_csv('xrp_daily.dat', sep='\\t').infer_objects()\n",
    "df = df.rename(index=str, columns={\"Date\": \"date\", \"Open\": \"open\", \"High\": \"high\", \"Low\": \"low\", \n",
    "                              \"Close\": \"close\", \"Volume\": \"volume\", \"Market Cap\": \"mktcap\"})\n",
    "\n",
    "df.volume = df.volume.apply(lambda v: int(v.replace(',', '')))\n",
    "df.mktcap = df.mktcap.apply(lambda m: int(m.replace(',', '')))\n",
    "df.date = df.date.apply(lambda d: datetime.strptime(d, \"%b %d, %Y\").strftime(\"%Y-%m-%d\"))\n",
    "df = df.iloc[::-1].reset_index(drop=True)\n",
    "\n",
    "df.to_csv(\"/Users/lola/xrp_daily.csv\", index=False)\n",
    "df.tail()"
   ]
  },
  {
   "cell_type": "markdown",
   "metadata": {},
   "source": [
    "_This section is in progress. Please scroll to the next italicized text_\n",
    "\n",
    "Before we train models on this data, we should first identify clusters within our dataset to determine which subsets of data we want to train on."
   ]
  },
  {
   "cell_type": "code",
   "execution_count": 3,
   "metadata": {},
   "outputs": [
    {
     "name": "stderr",
     "output_type": "stream",
     "text": [
      "/usr/local/lib/python3.6/site-packages/sklearn/utils/validation.py:475: DataConversionWarning: Data with input dtype int64 was converted to float64 by StandardScaler.\n",
      "  warnings.warn(msg, DataConversionWarning)\n"
     ]
    },
    {
     "data": {
      "text/plain": [
       "[<matplotlib.lines.Line2D at 0x1133a0898>,\n",
       " <matplotlib.lines.Line2D at 0x1133a09e8>]"
      ]
     },
     "execution_count": 3,
     "metadata": {},
     "output_type": "execute_result"
    },
    {
     "data": {
      "image/png": "[encoded data removed]",
      "text/plain": [
       "<matplotlib.figure.Figure at 0x11044b358>"
      ]
     },
     "metadata": {},
     "output_type": "display_data"
    }
   ],
   "source": [
    "%matplotlib inline\n",
    "\n",
    "import matplotlib.pyplot as plt\n",
    "from scipy import stats\n",
    "from sklearn import preprocessing\n",
    "\n",
    "\n",
    "#plt.hist(df.mktcap, bins=20)\n",
    "#plt.show()\n",
    "\n",
    "x = df[['volume', 'mktcap']].values #returns a numpy array\n",
    "scaler = preprocessing.StandardScaler()\n",
    "x_scaled = scaler.fit_transform(x)\n",
    "df2 = pd.DataFrame(x_scaled, columns=['volume', 'mktcap'])\n",
    "plt.plot(df2, 'gx')"
   ]
  },
  {
   "cell_type": "markdown",
   "metadata": {},
   "source": [
    "_Continue Reading_\n",
    "\n",
    "For each coin, we will subset its pricing history for relevant training data. We will partition a small amount into the test set, and run validation testing with mock trails on live data. Performance on live data will indicate whether or not strategies should be implemented in production. "
   ]
  },
  {
   "cell_type": "code",
   "execution_count": 4,
   "metadata": {},
   "outputs": [
    {
     "name": "stdout",
     "output_type": "stream",
     "text": [
      "           date      open      high       low     close      volume  \\\n",
      "363  2018-01-30  1.330000  1.330000  1.130000  1.140000  1134640000   \n",
      "364  2018-01-31  1.130000  1.190000  1.040000  1.160000  1264030000   \n",
      "365  2018-02-01  1.160000  1.160000  0.930378  0.962530  1410420000   \n",
      "366  2018-02-02  0.960642  0.960642  0.635185  0.884784  3529760000   \n",
      "367  2018-02-03  0.891992  0.974799  0.761635  0.924043  1988960000   \n",
      "\n",
      "          mktcap  \n",
      "363  51452400000  \n",
      "364  43800800000  \n",
      "365  44971500000  \n",
      "366  37473900000  \n",
      "367  34795900000   \n",
      "\n",
      " 358   -0.038168\n",
      "359   -0.073770\n",
      "360    0.000000\n",
      "361    0.128571\n",
      "362   -0.060606\n",
      "363   -0.157895\n",
      "364    0.017241\n",
      "365   -0.205157\n",
      "366   -0.087870\n",
      "367    0.042486\n",
      "Name: close, dtype: float64\n",
      "0         NaN\n",
      "1   -0.010975\n",
      "2    0.000772\n",
      "3    0.002773\n",
      "4   -0.007762\n",
      "Name: close, dtype: float64\n",
      "363   -0.157895\n",
      "364    0.017241\n",
      "365   -0.205157\n",
      "366   -0.087870\n",
      "367    0.042486\n",
      "Name: close, dtype: float64\n"
     ]
    }
   ],
   "source": [
    "# close_1d.close.sub(df.close.iloc[1:])\n",
    "\n",
    "print(df.iloc[-5:], '\\n\\n', (df.close.diff() / df.close)[-10:])\n",
    "perc_change_1d = (df.close.diff() / df.close)\n",
    "\n",
    "print(perc_change_1d.head())\n",
    "print(perc_change_1d.tail())\n",
    "# TODO: Fix offsets\n"
   ]
  },
  {
   "cell_type": "code",
   "execution_count": 5,
   "metadata": {},
   "outputs": [
    {
     "name": "stdout",
     "output_type": "stream",
     "text": [
      "Slope: -0.06217673391831772, Intercept0.007488824006664108\n"
     ]
    },
    {
     "data": {
      "image/png": "[encoded data removed]",
      "text/plain": [
       "<matplotlib.figure.Figure at 0x1133b4390>"
      ]
     },
     "metadata": {},
     "output_type": "display_data"
    }
   ],
   "source": [
    "x, y = perc_change_1d[1:-1], perc_change_1d[2:]\n",
    "slope, intercept, r_value, p_value, std_err = stats.linregress(x, y)\n",
    "\n",
    "print(f'Slope: {slope}, Intercept{intercept}')\n",
    "\n",
    "plt.plot(x, y, \"bo\")\n",
    "plt.plot(x, intercept + slope*x, 'r')\n",
    "plt.show()"
   ]
  },
  {
   "cell_type": "code",
   "execution_count": 6,
   "metadata": {},
   "outputs": [
    {
     "name": "stdout",
     "output_type": "stream",
     "text": [
      "Slope: -0.06005401513748232, Intercept0.007391156512576657\n"
     ]
    },
    {
     "data": {
      "image/png": "[encoded data removed]",
      "text/plain": [
       "<matplotlib.figure.Figure at 0x1134389b0>"
      ]
     },
     "metadata": {},
     "output_type": "display_data"
    }
   ],
   "source": [
    "# We try the same methodology with Open prices:\n",
    "\n",
    "perc_change_1d = (df.open.diff() / df.open)\n",
    "\n",
    "x, y = perc_change_1d[1:-1], perc_change_1d[2:]\n",
    "slope, intercept, r_value, p_value, std_err = stats.linregress(x, y)\n",
    "\n",
    "print(f'Slope: {slope}, Intercept{intercept}')\n",
    "\n",
    "plt.plot(x, y, \"bo\")\n",
    "plt.plot(x, intercept + slope*x, 'r')\n",
    "plt.show()"
   ]
  },
  {
   "cell_type": "markdown",
   "metadata": {},
   "source": [
    "From here, we can see that 1-dforward returns have a slightly negative correlation with future returns. This suggests that reversion-based strategies may be more rewarding on the 1-day time horizion.\n",
    "\n",
    "We can encapsulate the functionality of the above code as follows:"
   ]
  },
  {
   "cell_type": "code",
   "execution_count": 7,
   "metadata": {},
   "outputs": [
    {
     "name": "stdout",
     "output_type": "stream",
     "text": [
      "Slope: 0.2677781870316172, Intercept: 0.029761632415845042, r_value: 0.2637875323775773\n"
     ]
    },
    {
     "data": {
      "image/png": "[encoded data removed]",
      "text/plain": [
       "<matplotlib.figure.Figure at 0x1134e4d30>"
      ]
     },
     "metadata": {},
     "output_type": "display_data"
    }
   ],
   "source": [
    "def nday_fwd_returns(data, n):\n",
    "    delta_nd = data.diff(n) / data\n",
    "    x, y = delta_nd[n:-n], delta_nd[2*n:]    \n",
    "    slope, intercept, r_value, p_value, std_err = stats.linregress(x, y)\n",
    "    print(f'Slope: {slope}, Intercept: {intercept}, r_value: {r_value}')\n",
    "    plt.plot(x, y, \"bo\")\n",
    "    plt.plot(x, intercept + slope*x, 'r')\n",
    "    plt.show()\n",
    "    \n",
    "nday_fwd_returns(df.close, 6)"
   ]
  },
  {
   "cell_type": "markdown",
   "metadata": {},
   "source": [
    "We see that we get the strongest correlation for forward returns when $n = 6$."
   ]
  }
 ],
 "metadata": {
  "kernelspec": {
   "display_name": "Python 3",
   "language": "python",
   "name": "python3"
  },
  "language_info": {
   "codemirror_mode": {
    "name": "ipython",
    "version": 3
   },
   "file_extension": ".py",
   "mimetype": "text/x-python",
   "name": "python",
   "nbconvert_exporter": "python",
   "pygments_lexer": "ipython3",
   "version": "3.6.3"
  }
 },
 "nbformat": 4,
 "nbformat_minor": 2
}
