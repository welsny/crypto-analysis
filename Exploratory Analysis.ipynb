{
 "cells": [
  {
   "cell_type": "markdown",
   "metadata": {},
   "source": [
    "### Exploratory Analysis\n",
    "\n",
    "The main idea is to apply some quantitative trading to the Crypto-sphere and to see if we can create some trading strategies with decent $\\alpha$. In the future, it may be possible to run the mutual fund using both algorithmic trading and manual trading (via. Will's domain knowledge).\n",
    "\n",
    "In order to start algorithmically trading, we need to first decide which currencies that we are willing to trade. We will also need to create a market index to use as the baseline for measuring how well a strategy is actually performing. \n"
   ]
  },
  {
   "cell_type": "markdown",
   "metadata": {},
   "source": [
    "#### Data Collection and Compression\n",
    "\n",
    "Data is collected from the CoinMarketCap API. \n"
   ]
  },
  {
   "cell_type": "code",
   "execution_count": 1,
   "metadata": {},
   "outputs": [
    {
     "data": {
      "text/html": [
       "<div>\n",
       "<style scoped>\n",
       "    .dataframe tbody tr th:only-of-type {\n",
       "        vertical-align: middle;\n",
       "    }\n",
       "\n",
       "    .dataframe tbody tr th {\n",
       "        vertical-align: top;\n",
       "    }\n",
       "\n",
       "    .dataframe thead th {\n",
       "        text-align: right;\n",
       "    }\n",
       "</style>\n",
       "<table border=\"1\" class=\"dataframe\">\n",
       "  <thead>\n",
       "    <tr style=\"text-align: right;\">\n",
       "      <th></th>\n",
       "      <th>24h_volume_usd</th>\n",
       "      <th>available_supply</th>\n",
       "      <th>id</th>\n",
       "      <th>last_updated</th>\n",
       "      <th>market_cap_usd</th>\n",
       "      <th>max_supply</th>\n",
       "      <th>name</th>\n",
       "      <th>percent_change_1h</th>\n",
       "      <th>percent_change_24h</th>\n",
       "      <th>percent_change_7d</th>\n",
       "      <th>price_btc</th>\n",
       "      <th>price_usd</th>\n",
       "      <th>rank</th>\n",
       "      <th>symbol</th>\n",
       "      <th>total_supply</th>\n",
       "    </tr>\n",
       "  </thead>\n",
       "  <tbody>\n",
       "    <tr>\n",
       "      <th>0</th>\n",
       "      <td>8029010000</td>\n",
       "      <td>16829437</td>\n",
       "      <td>bitcoin</td>\n",
       "      <td>1517053760</td>\n",
       "      <td>185260125440</td>\n",
       "      <td>2.100000e+07</td>\n",
       "      <td>Bitcoin</td>\n",
       "      <td>-2.34</td>\n",
       "      <td>3.75</td>\n",
       "      <td>-13.59</td>\n",
       "      <td>1.000000</td>\n",
       "      <td>11008.100000</td>\n",
       "      <td>1</td>\n",
       "      <td>BTC</td>\n",
       "      <td>16829437</td>\n",
       "    </tr>\n",
       "    <tr>\n",
       "      <th>1</th>\n",
       "      <td>2996370000</td>\n",
       "      <td>97240758</td>\n",
       "      <td>ethereum</td>\n",
       "      <td>1517053753</td>\n",
       "      <td>102833074520</td>\n",
       "      <td>NaN</td>\n",
       "      <td>Ethereum</td>\n",
       "      <td>-1.80</td>\n",
       "      <td>4.06</td>\n",
       "      <td>-6.46</td>\n",
       "      <td>0.096535</td>\n",
       "      <td>1057.510000</td>\n",
       "      <td>2</td>\n",
       "      <td>ETH</td>\n",
       "      <td>97240758</td>\n",
       "    </tr>\n",
       "    <tr>\n",
       "      <th>2</th>\n",
       "      <td>1222230000</td>\n",
       "      <td>38739142811</td>\n",
       "      <td>ripple</td>\n",
       "      <td>1517053741</td>\n",
       "      <td>46154589528</td>\n",
       "      <td>1.000000e+11</td>\n",
       "      <td>Ripple</td>\n",
       "      <td>-2.00</td>\n",
       "      <td>0.49</td>\n",
       "      <td>-24.53</td>\n",
       "      <td>0.000109</td>\n",
       "      <td>1.191420</td>\n",
       "      <td>3</td>\n",
       "      <td>XRP</td>\n",
       "      <td>99993093880</td>\n",
       "    </tr>\n",
       "    <tr>\n",
       "      <th>3</th>\n",
       "      <td>459866000</td>\n",
       "      <td>16934488</td>\n",
       "      <td>bitcoin-cash</td>\n",
       "      <td>1517053757</td>\n",
       "      <td>26640658356</td>\n",
       "      <td>2.100000e+07</td>\n",
       "      <td>Bitcoin Cash</td>\n",
       "      <td>-2.32</td>\n",
       "      <td>3.42</td>\n",
       "      <td>-17.20</td>\n",
       "      <td>0.143607</td>\n",
       "      <td>1573.160000</td>\n",
       "      <td>4</td>\n",
       "      <td>BCH</td>\n",
       "      <td>16934488</td>\n",
       "    </tr>\n",
       "    <tr>\n",
       "      <th>4</th>\n",
       "      <td>636317000</td>\n",
       "      <td>25927070538</td>\n",
       "      <td>cardano</td>\n",
       "      <td>1517053760</td>\n",
       "      <td>15534515438</td>\n",
       "      <td>4.500000e+10</td>\n",
       "      <td>Cardano</td>\n",
       "      <td>-2.28</td>\n",
       "      <td>3.89</td>\n",
       "      <td>-14.00</td>\n",
       "      <td>0.000055</td>\n",
       "      <td>0.599162</td>\n",
       "      <td>5</td>\n",
       "      <td>ADA</td>\n",
       "      <td>31112483745</td>\n",
       "    </tr>\n",
       "  </tbody>\n",
       "</table>\n",
       "</div>"
      ],
      "text/plain": [
       "   24h_volume_usd  available_supply            id  last_updated  \\\n",
       "0      8029010000          16829437       bitcoin    1517053760   \n",
       "1      2996370000          97240758      ethereum    1517053753   \n",
       "2      1222230000       38739142811        ripple    1517053741   \n",
       "3       459866000          16934488  bitcoin-cash    1517053757   \n",
       "4       636317000       25927070538       cardano    1517053760   \n",
       "\n",
       "   market_cap_usd    max_supply          name  percent_change_1h  \\\n",
       "0    185260125440  2.100000e+07       Bitcoin              -2.34   \n",
       "1    102833074520           NaN      Ethereum              -1.80   \n",
       "2     46154589528  1.000000e+11        Ripple              -2.00   \n",
       "3     26640658356  2.100000e+07  Bitcoin Cash              -2.32   \n",
       "4     15534515438  4.500000e+10       Cardano              -2.28   \n",
       "\n",
       "   percent_change_24h  percent_change_7d  price_btc     price_usd  rank  \\\n",
       "0                3.75             -13.59   1.000000  11008.100000     1   \n",
       "1                4.06              -6.46   0.096535   1057.510000     2   \n",
       "2                0.49             -24.53   0.000109      1.191420     3   \n",
       "3                3.42             -17.20   0.143607   1573.160000     4   \n",
       "4                3.89             -14.00   0.000055      0.599162     5   \n",
       "\n",
       "  symbol  total_supply  \n",
       "0    BTC      16829437  \n",
       "1    ETH      97240758  \n",
       "2    XRP   99993093880  \n",
       "3    BCH      16934488  \n",
       "4    ADA   31112483745  "
      ]
     },
     "execution_count": 1,
     "metadata": {},
     "output_type": "execute_result"
    }
   ],
   "source": [
    "%matplotlib inline\n",
    "\n",
    "import requests\n",
    "import pandas as pd\n",
    "import numpy as np\n",
    "import matplotlib.pyplot as plt\n",
    "\n",
    "N_COINS = 30\n",
    "\n",
    "df = pd.read_json(f'https://api.coinmarketcap.com/v1/ticker/?limit={N_COINS}')\n",
    "df = df.infer_objects()\n",
    "df.head()\n"
   ]
  },
  {
   "cell_type": "markdown",
   "metadata": {},
   "source": [
    "We we want to compress this data by removing irrelevant and/or redundant features. This will allow us to minimize our disk usage (which will be useful for future scalability), and allow us to present our information in a more useful and human-readable format.\n",
    "\n",
    "1. Remove `name` and `id`. Instead, use `symbol`.\n",
    "2. Remove `max_supply`, `total_supply`, and `available_supply`. The max supply of BTC will always be 2.1e7. We don't need to store it again every 5 minutes. Total and available supply are both irrelvant.\n",
    "3. Remove `price_btc`. It is a redundant field that can be easily re-calculated with `price_usd`.\n",
    "4. Reorder remaining fields to a more human-readable format.\n",
    "\n",
    "This is my proposed improvement:"
   ]
  },
  {
   "cell_type": "code",
   "execution_count": 2,
   "metadata": {},
   "outputs": [
    {
     "data": {
      "text/html": [
       "<div>\n",
       "<style scoped>\n",
       "    .dataframe tbody tr th:only-of-type {\n",
       "        vertical-align: middle;\n",
       "    }\n",
       "\n",
       "    .dataframe tbody tr th {\n",
       "        vertical-align: top;\n",
       "    }\n",
       "\n",
       "    .dataframe thead th {\n",
       "        text-align: right;\n",
       "    }\n",
       "</style>\n",
       "<table border=\"1\" class=\"dataframe\">\n",
       "  <thead>\n",
       "    <tr style=\"text-align: right;\">\n",
       "      <th></th>\n",
       "      <th>rank</th>\n",
       "      <th>symbol</th>\n",
       "      <th>price_usd</th>\n",
       "      <th>market_cap_usd</th>\n",
       "      <th>24h_volume_usd</th>\n",
       "      <th>percent_change_1h</th>\n",
       "      <th>percent_change_24h</th>\n",
       "      <th>percent_change_7d</th>\n",
       "    </tr>\n",
       "  </thead>\n",
       "  <tbody>\n",
       "    <tr>\n",
       "      <th>0</th>\n",
       "      <td>1</td>\n",
       "      <td>BTC</td>\n",
       "      <td>11008.100000</td>\n",
       "      <td>185260125440</td>\n",
       "      <td>8029010000</td>\n",
       "      <td>-2.34</td>\n",
       "      <td>3.75</td>\n",
       "      <td>-13.59</td>\n",
       "    </tr>\n",
       "    <tr>\n",
       "      <th>1</th>\n",
       "      <td>2</td>\n",
       "      <td>ETH</td>\n",
       "      <td>1057.510000</td>\n",
       "      <td>102833074520</td>\n",
       "      <td>2996370000</td>\n",
       "      <td>-1.80</td>\n",
       "      <td>4.06</td>\n",
       "      <td>-6.46</td>\n",
       "    </tr>\n",
       "    <tr>\n",
       "      <th>2</th>\n",
       "      <td>3</td>\n",
       "      <td>XRP</td>\n",
       "      <td>1.191420</td>\n",
       "      <td>46154589528</td>\n",
       "      <td>1222230000</td>\n",
       "      <td>-2.00</td>\n",
       "      <td>0.49</td>\n",
       "      <td>-24.53</td>\n",
       "    </tr>\n",
       "    <tr>\n",
       "      <th>3</th>\n",
       "      <td>4</td>\n",
       "      <td>BCH</td>\n",
       "      <td>1573.160000</td>\n",
       "      <td>26640658356</td>\n",
       "      <td>459866000</td>\n",
       "      <td>-2.32</td>\n",
       "      <td>3.42</td>\n",
       "      <td>-17.20</td>\n",
       "    </tr>\n",
       "    <tr>\n",
       "      <th>4</th>\n",
       "      <td>5</td>\n",
       "      <td>ADA</td>\n",
       "      <td>0.599162</td>\n",
       "      <td>15534515438</td>\n",
       "      <td>636317000</td>\n",
       "      <td>-2.28</td>\n",
       "      <td>3.89</td>\n",
       "      <td>-14.00</td>\n",
       "    </tr>\n",
       "  </tbody>\n",
       "</table>\n",
       "</div>"
      ],
      "text/plain": [
       "   rank symbol     price_usd  market_cap_usd  24h_volume_usd  \\\n",
       "0     1    BTC  11008.100000    185260125440      8029010000   \n",
       "1     2    ETH   1057.510000    102833074520      2996370000   \n",
       "2     3    XRP      1.191420     46154589528      1222230000   \n",
       "3     4    BCH   1573.160000     26640658356       459866000   \n",
       "4     5    ADA      0.599162     15534515438       636317000   \n",
       "\n",
       "   percent_change_1h  percent_change_24h  percent_change_7d  \n",
       "0              -2.34                3.75             -13.59  \n",
       "1              -1.80                4.06              -6.46  \n",
       "2              -2.00                0.49             -24.53  \n",
       "3              -2.32                3.42             -17.20  \n",
       "4              -2.28                3.89             -14.00  "
      ]
     },
     "execution_count": 2,
     "metadata": {},
     "output_type": "execute_result"
    }
   ],
   "source": [
    "df = pd.read_json(f'https://api.coinmarketcap.com/v1/ticker/?limit={N_COINS}')\n",
    "df = df.infer_objects()\n",
    "\n",
    "df = df[['rank', 'symbol', 'price_usd', 'market_cap_usd', '24h_volume_usd',\n",
    "         'percent_change_1h', 'percent_change_24h', 'percent_change_7d']]\n",
    "\n",
    "df.head()"
   ]
  },
  {
   "cell_type": "markdown",
   "metadata": {},
   "source": [
    "We will make serial calls to this API every 5 minutes, and store results in their own time-stamped CSV.\n",
    "\n",
    "###### Global Data\n",
    "\n",
    "The API also provides access to global data."
   ]
  },
  {
   "cell_type": "code",
   "execution_count": 3,
   "metadata": {},
   "outputs": [
    {
     "name": "stdout",
     "output_type": "stream",
     "text": [
      "   active_assets  active_currencies  active_markets  \\\n",
      "0            567                896            8165   \n",
      "\n",
      "   bitcoin_percentage_of_market_cap  last_updated  total_24h_volume_usd  \\\n",
      "0                             34.45    1517053760          2.338388e+10   \n",
      "\n",
      "   total_market_cap_usd  \n",
      "0          5.378251e+11  \n"
     ]
    }
   ],
   "source": [
    "json = requests.get('https://api.coinmarketcap.com/v1/global/').json()\n",
    "global_df = pd.DataFrame([json]).infer_objects()\n",
    "\n",
    "print(global_df.head())"
   ]
  },
  {
   "cell_type": "markdown",
   "metadata": {},
   "source": [
    "Since we would only be adding one line of data with each API call, data compression is not as much of an issue for this data. \n",
    "\n",
    "We will make serial calls to this API every 5 minutes, and save each record's data into its own row separated by date. The timestamp of the call will be saved as an additional field."
   ]
  },
  {
   "cell_type": "markdown",
   "metadata": {},
   "source": [
    "#### Establishing a Market Index\n",
    "\n",
    "From [Investopedia](https://www.investopedia.com/terms/m/marketindex.asp#ixzz555QvCO80):\n",
    "\n",
    "`\n",
    "A market index is an aggregate value produced by combining several stocks or other investment vehicles together and expressing their total values against a base value from a specific date. Market indexes are intended to represent an entire stock market and thus track the market's changes over time. \n",
    "`\n",
    "\n",
    "We will choose coins for the index scaled by their respective market caps; this approach allows us to get a good measurement for the coin markets while keeping the total number of coins in our portfolio small."
   ]
  },
  {
   "cell_type": "code",
   "execution_count": 4,
   "metadata": {
    "scrolled": true
   },
   "outputs": [
    {
     "data": {
      "image/png": "[encoded data removed]",
      "text/plain": [
       "<matplotlib.figure.Figure at 0x1086077f0>"
      ]
     },
     "metadata": {},
     "output_type": "display_data"
    }
   ],
   "source": [
    "fig, ax = plt.subplots(figsize=(6, 12))\n",
    "\n",
    "ax.barh(df['rank'], df['market_cap_usd']/10**9)\n",
    "ax.invert_yaxis()\n",
    "ax.xaxis.set_label_position('top')\n",
    "ax.xaxis.tick_top()\n",
    "\n",
    "ax.set_xlabel('Mktcap in Billions (USD)')\n",
    "plt.setp(ax, yticks=np.arange(1, N_COINS+1), yticklabels=df['symbol'])\n",
    "\n",
    "#ax.set_xticklabels(df[\"symbol\"])\n",
    "\n",
    "plt.show()\n"
   ]
  },
  {
   "cell_type": "code",
   "execution_count": 5,
   "metadata": {},
   "outputs": [
    {
     "data": {
      "image/png": "[encoded data removed]",
      "text/plain": [
       "<matplotlib.figure.Figure at 0x10875cbe0>"
      ]
     },
     "metadata": {},
     "output_type": "display_data"
    },
    {
     "name": "stdout",
     "output_type": "stream",
     "text": [
      "0     34.446165\n",
      "1     53.566335\n",
      "2     62.148045\n",
      "3     67.101450\n",
      "4     69.989846\n",
      "5     72.024220\n",
      "6     73.819418\n",
      "7     75.461889\n",
      "8     77.097993\n",
      "9     78.497971\n",
      "10    79.727409\n",
      "11    80.836600\n",
      "12    81.742337\n",
      "13    82.560167\n",
      "14    83.149015\n",
      "15    83.706342\n",
      "16    84.248599\n",
      "17    84.773947\n",
      "18    85.295834\n",
      "19    85.765684\n",
      "20    86.210709\n",
      "21    86.572848\n",
      "22    86.874747\n",
      "23    87.175444\n",
      "24    87.444501\n",
      "25    87.705998\n",
      "26    87.962630\n",
      "27    88.204447\n",
      "28    88.443259\n",
      "29    88.674882\n",
      "Name: market_cap_usd, dtype: float64\n"
     ]
    }
   ],
   "source": [
    "total_mkt_cap = global_df['total_market_cap_usd'][0]\n",
    "\n",
    "fig, ax = plt.subplots(figsize=(6, 12))\n",
    "ax.barh(df['rank'], 100*df['market_cap_usd'].cumsum()/total_mkt_cap)\n",
    "ax.invert_yaxis()\n",
    "ax.xaxis.set_label_position('top')\n",
    "ax.xaxis.tick_top()\n",
    "\n",
    "ax.set_xlabel('Cumulative Marketshare Percentage')\n",
    "plt.setp(ax, yticks=np.arange(1, N_COINS+1), yticklabels=df['symbol'])\n",
    "\n",
    "plt.axvline(x=70, color=\"green\")\n",
    "plt.axvline(x=80, color=\"blue\")\n",
    "plt.axvline(x=90, color=\"black\")\n",
    "plt.xticks(np.arange(0, 101, 10))\n",
    "\n",
    "plt.show()\n",
    "\n",
    "mktcap_cumsum = 100*df['market_cap_usd'].cumsum()/total_mkt_cap\n",
    "print(mktcap_cumsum)"
   ]
  },
  {
   "cell_type": "markdown",
   "metadata": {},
   "source": [
    "By adjusting the `N_COINS` variable, we can see that the top 100 coins makes up approximately 95% of the market cap, while the top 5, 10, and 35 make up 70%, 80%, and 90% respectively. \n"
   ]
  },
  {
   "cell_type": "code",
   "execution_count": 7,
   "metadata": {},
   "outputs": [
    {
     "name": "stdout",
     "output_type": "stream",
     "text": [
      "{'BTC': 185260125440, 'ETH': 102833074520, 'XRP': 46154589528, 'BCH': 26640658356, 'ADA': 15534515438}\n",
      "{'BTC': 185260125440, 'ETH': 102833074520, 'XRP': 46154589528, 'BCH': 26640658356, 'ADA': 15534515438, 'XLM': 10941377535, 'LTC': 9655024879, 'EOS': 8833621692, 'NEO': 8799375000, 'XEM': 7529435999, 'MIOTA': 6612224590}\n"
     ]
    }
   ],
   "source": [
    "def top_n_perc(n):\n",
    "    \"\"\"\n",
    "    Return the relative composition of the `top_n_perc` index as a dictionary.\n",
    "    \"\"\"\n",
    "    ct = len([i for i in mktcap_cumsum if i < n])\n",
    "    return {df['symbol'][i]: df['market_cap_usd'][i] for i in range(ct)}\n",
    "\n",
    "print(top_n_perc(70))\n",
    "print(top_n_perc(80))"
   ]
  }
 ],
 "metadata": {
  "kernelspec": {
   "display_name": "Python 3",
   "language": "python",
   "name": "python3"
  },
  "language_info": {
   "codemirror_mode": {
    "name": "ipython",
    "version": 3
   },
   "file_extension": ".py",
   "mimetype": "text/x-python",
   "name": "python",
   "nbconvert_exporter": "python",
   "pygments_lexer": "ipython3",
   "version": "3.6.3"
  }
 },
 "nbformat": 4,
 "nbformat_minor": 2
}
